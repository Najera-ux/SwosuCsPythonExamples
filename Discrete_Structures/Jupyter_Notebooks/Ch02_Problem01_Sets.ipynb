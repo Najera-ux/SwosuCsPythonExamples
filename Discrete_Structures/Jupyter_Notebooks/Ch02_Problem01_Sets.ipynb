{
 "cells": [
  {
   "cell_type": "markdown",
   "id": "0",
   "metadata": {},
   "source": [
    "# Discrete Structures — Chapter 2\n",
    "## Problem 1: Classical Sets with Bit Strings\n",
    "\n",
    "We can represent a set as a **bit string** over a fixed universe.  \n",
    "- `1` means the element is in the set.  \n",
    "- `0` means the element is not in the set.  \n",
    "\n",
    "For example, with the universe {0, 1, 2, 3, 4}:  \n",
    "- `evens = [1, 0, 1, 0, 1]` → represents {0, 2, 4}.  \n",
    "- `odds  = [0, 1, 1, 0, 1]` → represents {1,\n"
   ]
  },
  {
   "cell_type": "code",
   "execution_count": null,
   "id": "1",
   "metadata": {},
   "outputs": [],
   "source": [
    "# Classical set operations using bit strings\n",
    "\n",
    "def bitstring_union(set_A_bits, set_B_bits):\n",
    "    return [a | b for a, b in zip(set_A_bits, set_B_bits)]\n",
    "\n",
    "def bitstring_intersection(set_A_bits, set_B_bits):\n",
    "    return [a & b for a, b in zip(set_A_bits, set_B_bits)]\n",
    "\n",
    "def bitstring_difference(set_A_bits, set_B_bits):\n",
    "    return [a & ~b for a, b in zip(set_A_bits, set_B_bits)]\n",
    "\n",
    "def bitstring_symmetric_diff(set_A_bits, set_B_bits):\n",
    "    return [a ^ b for a, b in zip(set_A_bits, set_B_bits)]\n",
    "\n",
    "# Example sets\n",
    "evens_as_bits = [1, 0, 1, 0, 1]  # {0, 2, 4}\n",
    "odds_as_bits  = [0, 1, 1, 0, 1]  # {1, 2, 4}\n",
    "\n",
    "print(\"Evens (bits):\", evens_as_bits, \"→ {0, 2, 4}\")\n",
    "print(\"Odds  (bits):\", odds_as_bits,  \"→ {1, 2, 4}\\n\")\n",
    "\n",
    "print(\"Union (Evens ∪ Odds) =\", bitstring_union(evens_as_bits, odds_as_bits))\n",
    "print(\"Intersection (Evens ∩ Odds) =\", bitstring_intersection(evens_as_bits, odds_as_bits))\n",
    "print(\"Difference (Evens − Odds) =\", bitstring_difference(evens_as_bits, odds_as_bits))\n",
    "print(\"Symmetric Difference (Evens ⊕ Odds) =\", bitstring_symmetric_diff(evens_as_bits, odds_as_bits))\n"
   ]
  },
  {
   "cell_type": "code",
   "execution_count": null,
   "id": "2",
   "metadata": {},
   "outputs": [],
   "source": [
    "## 🎯 Try it Yourself\n",
    "\n",
    "Change the bit strings and re-run the code cell above.\n",
    "\n",
    "Example:  \n",
    "- `primes = [0, 1, 1, 0, 1]` (for {1, 2, 4})  \n",
    "- What happens if we compute `Union(Evens, Primes)`?\n"
   ]
  },
  {
   "cell_type": "code",
   "execution_count": null,
   "id": "3",
   "metadata": {},
   "outputs": [],
   "source": []
  }
 ],
 "metadata": {
  "kernelspec": {
   "display_name": "Python 3 (ipykernel)",
   "language": "python",
   "name": "python3"
  },
  "language_info": {
   "codemirror_mode": {
    "name": "ipython",
    "version": 3
   },
   "file_extension": ".py",
   "mimetype": "text/x-python",
   "name": "python",
   "nbconvert_exporter": "python",
   "pygments_lexer": "ipython3",
   "version": "3.13.0"
  }
 },
 "nbformat": 4,
 "nbformat_minor": 5
}
